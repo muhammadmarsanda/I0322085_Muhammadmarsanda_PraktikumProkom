{
 "cells": [
  {
   "attachments": {},
   "cell_type": "markdown",
   "metadata": {},
   "source": [
    "1. Buatlah program untuk menghitung pangkat 2 dari angka 1 hingga 50!"
   ]
  },
  {
   "cell_type": "code",
   "execution_count": 6,
   "metadata": {},
   "outputs": [
    {
     "name": "stdout",
     "output_type": "stream",
     "text": [
      "1 pangkat 2 adalah 1\n",
      "2 pangkat 2 adalah 4\n",
      "3 pangkat 2 adalah 9\n",
      "4 pangkat 2 adalah 16\n",
      "5 pangkat 2 adalah 25\n",
      "6 pangkat 2 adalah 36\n",
      "7 pangkat 2 adalah 49\n",
      "8 pangkat 2 adalah 64\n",
      "9 pangkat 2 adalah 81\n",
      "10 pangkat 2 adalah 100\n",
      "11 pangkat 2 adalah 121\n",
      "12 pangkat 2 adalah 144\n",
      "13 pangkat 2 adalah 169\n",
      "14 pangkat 2 adalah 196\n",
      "15 pangkat 2 adalah 225\n",
      "16 pangkat 2 adalah 256\n",
      "17 pangkat 2 adalah 289\n",
      "18 pangkat 2 adalah 324\n",
      "19 pangkat 2 adalah 361\n",
      "20 pangkat 2 adalah 400\n",
      "21 pangkat 2 adalah 441\n",
      "22 pangkat 2 adalah 484\n",
      "23 pangkat 2 adalah 529\n",
      "24 pangkat 2 adalah 576\n",
      "25 pangkat 2 adalah 625\n",
      "26 pangkat 2 adalah 676\n",
      "27 pangkat 2 adalah 729\n",
      "28 pangkat 2 adalah 784\n",
      "29 pangkat 2 adalah 841\n",
      "30 pangkat 2 adalah 900\n",
      "31 pangkat 2 adalah 961\n",
      "32 pangkat 2 adalah 1024\n",
      "33 pangkat 2 adalah 1089\n",
      "34 pangkat 2 adalah 1156\n",
      "35 pangkat 2 adalah 1225\n",
      "36 pangkat 2 adalah 1296\n",
      "37 pangkat 2 adalah 1369\n",
      "38 pangkat 2 adalah 1444\n",
      "39 pangkat 2 adalah 1521\n",
      "40 pangkat 2 adalah 1600\n",
      "41 pangkat 2 adalah 1681\n",
      "42 pangkat 2 adalah 1764\n",
      "43 pangkat 2 adalah 1849\n",
      "44 pangkat 2 adalah 1936\n",
      "45 pangkat 2 adalah 2025\n",
      "46 pangkat 2 adalah 2116\n",
      "47 pangkat 2 adalah 2209\n",
      "48 pangkat 2 adalah 2304\n",
      "49 pangkat 2 adalah 2401\n",
      "50 pangkat 2 adalah 2500\n"
     ]
    }
   ],
   "source": [
    "for i in range(1, 51):\n",
    "    print(f\"{i} pangkat 2 adalah {i**2}\")\n"
   ]
  },
  {
   "attachments": {},
   "cell_type": "markdown",
   "metadata": {},
   "source": [
    "2. Buatlah sebuah list yang berisi daftar nama mahasiswa angkatan kalian minimal sejumlah 10 nama. Kemudian buat program pencarian menggunakan pengulangan, di mana apabila nama yang user inputkan sudah sesuai dengan isi list maka program akan berhenti dan menampilkan output \"Pencarian anda sudah berakhir\""
   ]
  },
  {
   "attachments": {},
   "cell_type": "markdown",
   "metadata": {},
   "source": [
    "# membuat list nama mahasiswa\n",
    "mahasiswa = [\"Andi\", \"Budi\", \"Citra\", \"Dewi\", \"Eka\", \"Fani\", \"Gita\", \"Hani\", \"Indra\", \"Jaka\"]\n",
    "\n",
    "# input nama yang akan dicari\n",
    "nama_cari = input(\"Masukkan nama yang ingin dicari: \")\n",
    "\n",
    "# melakukan pencarian\n",
    "found = False\n",
    "for nama in mahasiswa:\n",
    "    if nama == nama_cari:\n",
    "        found = True\n",
    "        break\n",
    "\n",
    "# menampilkan hasil pencarian\n",
    "if found:\n",
    "    print(\"Pencarian anda sudah berakhir.\")\n",
    "else:\n",
    "    print(\"Nama yang anda cari tidak ditemukan.\")\n"
   ]
  },
  {
   "attachments": {},
   "cell_type": "markdown",
   "metadata": {},
   "source": [
    "catatan: perhatikan user dapat menginputkan menggunakan baik huruf kapital maupun tidak"
   ]
  },
  {
   "cell_type": "code",
   "execution_count": null,
   "metadata": {},
   "outputs": [],
   "source": []
  },
  {
   "attachments": {},
   "cell_type": "markdown",
   "metadata": {},
   "source": [
    "3. Disajikan list sebagai berikut "
   ]
  },
  {
   "cell_type": "code",
   "execution_count": 7,
   "metadata": {},
   "outputs": [],
   "source": [
    "bulan = ['januari', 'februari', 'maret', 'april','mei','juni','juli','agustus','september','oktober','november','desember']\n",
    "kota = ['jakarta' , 'kuala lumpur', 'bangkok', 'seoul', 'canada','london','dubai','barcelona']"
   ]
  },
  {
   "attachments": {},
   "cell_type": "markdown",
   "metadata": {},
   "source": [
    "Robert adalah seorang penyanyi terkenal. Dia merencanakan konser world tour di tahun 2024 mendatang di berbagai negara. Dengan catatan pada bulan April dan Mei, Robert kembali ke indonesia untuk istirahat sejenak kemudian melanjutkan lagi konser. Berdasarkan kasus tersebut buatlah program pengulangannya!"
   ]
  },
  {
   "cell_type": "code",
   "execution_count": null,
   "metadata": {},
   "outputs": [],
   "source": []
  }
 ],
 "metadata": {
  "kernelspec": {
   "display_name": "Python 3",
   "language": "python",
   "name": "python3"
  },
  "language_info": {
   "codemirror_mode": {
    "name": "ipython",
    "version": 3
   },
   "file_extension": ".py",
   "mimetype": "text/x-python",
   "name": "python",
   "nbconvert_exporter": "python",
   "pygments_lexer": "ipython3",
   "version": "3.11.2"
  },
  "orig_nbformat": 4
 },
 "nbformat": 4,
 "nbformat_minor": 2
}
