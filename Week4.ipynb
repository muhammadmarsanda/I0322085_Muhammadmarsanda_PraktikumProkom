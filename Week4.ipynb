{
 "cells": [
  {
   "cell_type": "code",
   "execution_count": 12,
   "metadata": {},
   "outputs": [
    {
     "name": "stdout",
     "output_type": "stream",
     "text": [
      "1 adalah bilangan ganjil\n"
     ]
    }
   ],
   "source": [
    "#bilangan genap ganjil \n",
    "x = int(input(\"masukkan angka bilangan\"))\n",
    "\n",
    "#gunakan operator modulo untuk menentukan apakah bilangan genap atau ganjil\n",
    "if x % 2 ==0:\n",
    "    print(f\"{x} adalah bilangan genap\")\n",
    "else:\n",
    "    print(f\"{x} adalah bilangan ganjil\")\n"
   ]
  },
  {
   "cell_type": "code",
   "execution_count": 14,
   "metadata": {},
   "outputs": [
    {
     "name": "stdout",
     "output_type": "stream",
     "text": [
      "tarif bus anda adalah Rp360000\n"
     ]
    }
   ],
   "source": [
    "#tarif bus (per orang)\n",
    "rute = input(\"masukkan tujuan kota anda\")\n",
    "jumlah_penumpang = int(input(\"masukkan jumlah penumpang =\"))\n",
    "if rute == \"solo-semarang\":\n",
    "    tarif = 120000*jumlah_penumpang\n",
    "    print(f\"tarif bus anda adalah Rp{tarif}\")\n",
    "elif rute == \"solo-jakarta\":\n",
    "    tarif = 250000*jumlah_penumpang\n",
    "    print(f\"tarif bus anda adalah Rp{tarif}\")\n",
    "elif rute ==\"solo-surabaya\":\n",
    "    tarif = 200000*jumlah_penumpang\n",
    "    print(f\"tarif bus anda adalah Rp{tarif}\")\n",
    "else :\n",
    "    tarif = 240000*jumlah_penumpang\n",
    "    print(f\"tarif bus anda adalah Rp{tarif}\")"
   ]
  },
  {
   "cell_type": "code",
   "execution_count": 16,
   "metadata": {},
   "outputs": [
    {
     "name": "stdout",
     "output_type": "stream",
     "text": [
      "Harga barang: Rp 400,000\n",
      "Diskon: 30%\n",
      "Harga setelah diskon: Rp 280,000.0\n"
     ]
    }
   ],
   "source": []
  },
  {
   "cell_type": "code",
   "execution_count": 18,
   "metadata": {},
   "outputs": [
    {
     "name": "stdout",
     "output_type": "stream",
     "text": [
      "tarif bus anda adalah Rp600000\n"
     ]
    }
   ],
   "source": [
    "\n",
    "#pemberian discount\n",
    "rute = input(\"masukkan tujuan kota anda\")\n",
    "jumlah_penumpang = int(input(\"masukkan jumlah penumpang =\"))\n",
    "if rute == \"solo-semarang\":\n",
    "    tarif = 120000*jumlah_penumpang\n",
    "    print(f\"tarif bus anda adalah Rp{tarif}\")\n",
    "    discount = 50/100 * tarif\n",
    "elif rute == \"solo-jakarta\":\n",
    "    tarif = 250000*jumlah_penumpang\n",
    "    print(f\"tarif bus anda adalah Rp{tarif}\")\n",
    "    discount = 50/100 * tarif\n",
    "elif rute ==\"solo-surabaya\":\n",
    "    tarif = 200000*jumlah_penumpang\n",
    "    print(f\"tarif bus anda adalah Rp{tarif}\")\n",
    "    discount = 50/100\n",
    "\n",
    "else :\n",
    "    tarif = 240000*jumlah_penumpang\n",
    "    print(f\"tarif bus anda adalah Rp{tarif}\")\n",
    "    discount = 50/100"
   ]
  },
  {
   "cell_type": "code",
   "execution_count": 19,
   "metadata": {},
   "outputs": [
    {
     "name": "stdout",
     "output_type": "stream",
     "text": [
      "Tarif bus anda adalah Rp720000\n",
      "Anda mendapatkan diskon 10% sebesar Rp72000.0\n",
      "Total harga yang harus dibayar adalah Rp648000.0\n",
      "Tarif anda bertambah Rp75.000 karena melewati tol.\n",
      "Total harga yang harus dibayar sekarang adalah Rp723000.0\n"
     ]
    }
   ],
   "source": [
    "tujuan = input(\"Tujuan anda: (solo-semarang, solo-jakarta, solo-surabaya, dan solo-semarang) \")\n",
    "jumlah = int(input(\"Jumlah tiket: \"))\n",
    "tol = input(\"Apakah anda akan melewati tol? (ya/tidak) \")\n",
    "\n",
    "if tujuan == \"solo-semarang\":\n",
    "    tarif = 120000*jumlah\n",
    "    print(f\"Tarif bus anda adalah Rp{tarif}\")\n",
    "elif tujuan == \"solo-jakarta\":\n",
    "    tarif = 250000*jumlah\n",
    "    print(f\"Tarif bus anda adalah Rp{tarif}\")\n",
    "elif tujuan == \"solo-surabaya\":\n",
    "    tarif = 200000*jumlah\n",
    "    print(f\"Tarif bus anda adalah Rp{tarif}\")\n",
    "elif tujuan == \"solo-malang\":\n",
    "    tarif = 240000*jumlah\n",
    "    print(f\"Tarif bus anda adalah Rp{tarif}\")\n",
    "else:\n",
    "    tarif = 240000*jumlah\n",
    "    print(f\"Tarif bus anda adalah Rp{tarif}\")\n",
    "\n",
    "# Memberikan diskon 10% jika pembelian tiket lebih dari 3\n",
    "if jumlah > 3:\n",
    "    diskon = tarif*0.1\n",
    "    tarif -= diskon\n",
    "    print(f\"Anda mendapatkan diskon 10% sebesar Rp{diskon}\")\n",
    "    print(f\"Total harga yang harus dibayar adalah Rp{tarif}\")\n",
    "\n",
    "# Menambahkan harga jika lewat tol\n",
    "if tol == \"ya\":\n",
    "    tarif += 75000\n",
    "    print(f\"Tarif anda bertambah Rp75.000 karena melewati tol.\")\n",
    "    print(f\"Total harga yang harus dibayar sekarang adalah Rp{tarif}\")"
   ]
  }
 ],
 "metadata": {
  "kernelspec": {
   "display_name": "Python 3",
   "language": "python",
   "name": "python3"
  },
  "language_info": {
   "codemirror_mode": {
    "name": "ipython",
    "version": 3
   },
   "file_extension": ".py",
   "mimetype": "text/x-python",
   "name": "python",
   "nbconvert_exporter": "python",
   "pygments_lexer": "ipython3",
   "version": "3.11.2"
  },
  "orig_nbformat": 4
 },
 "nbformat": 4,
 "nbformat_minor": 2
}
