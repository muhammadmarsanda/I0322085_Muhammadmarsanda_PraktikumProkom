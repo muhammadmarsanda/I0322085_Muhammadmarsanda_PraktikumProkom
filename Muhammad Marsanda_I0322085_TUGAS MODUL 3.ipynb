{
 "cells": [
  {
   "attachments": {},
   "cell_type": "markdown",
   "metadata": {},
   "source": [
    "A. MENCARI MASSA JIKA DIKETAHUI NILAI ENERGI POTENSIAL, PERCEPATAN GRAVITASI, DAN KETINGGIAN BENDA! BESERTA RUMUSNYA!"
   ]
  },
  {
   "cell_type": "code",
   "execution_count": 2,
   "metadata": {},
   "outputs": [
    {
     "name": "stdout",
     "output_type": "stream",
     "text": [
      "Massa benda yang dimiliki oleh benda dengan energi potensial 12.0 kg.m^2/s^2 dan tinggi 1.0 m adalah 1.2244897959183672 kg\n"
     ]
    }
   ],
   "source": [
    "#input data\n",
    "energi_potensial = float(input('Masukkan energi potensial benda (kg.m^2/s^2): '))\n",
    "tinggi = float(input('Masukkan tinggi benda (m): '))\n",
    "g = 9.8 #percepatan gravitas di bumi (m/s^2)\n",
    "\n",
    "#hitung nilai massa benda\n",
    "massa = energi_potensial/(tinggi*g)\n",
    "\n",
    "#output\n",
    "print('Massa benda yang dimiliki oleh benda dengan energi potensial', energi_potensial, 'kg.m^2/s^2 dan tinggi', tinggi, 'm adalah', massa, 'kg')"
   ]
  },
  {
   "cell_type": "code",
   "execution_count": 1,
   "metadata": {},
   "outputs": [
    {
     "name": "stdout",
     "output_type": "stream",
     "text": [
      "Massa benda yang dimiliki oleh benda dengan energi potensial 10 kg.m^2/s^2 dan tinggi 1 m adalah 1.0204081632653061 kg\n"
     ]
    }
   ],
   "source": [
    "#input data\n",
    "energi_potensial = 10 #satuan (kg.m^2/s^2) \n",
    "tinggi = 1 #satuan (m)\n",
    "g = 9.8 #percepatan gravitas di bumi (m/s^2)\n",
    "\n",
    "#hitung nilai massa benda\n",
    "massa = energi_potensial/(tinggi*g)\n",
    "\n",
    "#output\n",
    "print('Massa benda yang dimiliki oleh benda dengan energi potensial', energi_potensial, 'kg.m^2/s^2 dan tinggi', tinggi, 'm adalah', massa, 'kg')"
   ]
  },
  {
   "attachments": {},
   "cell_type": "markdown",
   "metadata": {},
   "source": [
    "B. MENCARI GAYA APUNG JIKA DIKETAHUI MASSA JENIS, TINGGI, PANJANG, DAN LEBAR BENDA SERTA PERCEPATAN GRAVITASI DAN CONTOHNYA! BESERTA RUMUSNYA!"
   ]
  },
  {
   "cell_type": "code",
   "execution_count": 3,
   "metadata": {},
   "outputs": [
    {
     "name": "stdout",
     "output_type": "stream",
     "text": [
      "Gaya apung yang dialami oleh benda dengan massa jenis 12.0 kg/m^3 dan volume 6.0 m^3 adalah 705.6 N\n"
     ]
    }
   ],
   "source": [
    "#input data\n",
    "massa_jenis = float(input('Masukkan massa jenis benda (kg/m^3): '))\n",
    "tinggi = float(input('Masukkan tinggi benda (m): '))\n",
    "panjang = float(input('Masukkan panjang benda (m): '))\n",
    "lebar = float(input('Masukkan lebar benda (m): '))\n",
    "g = 9.8 #percepatan gravitas di bumi (m/s^2)\n",
    "\n",
    "#hitung volume benda\n",
    "volume = panjang*lebar*tinggi\n",
    "\n",
    "#hitung gaya apung\n",
    "gaya_apung = massa_jenis*volume*g\n",
    "\n",
    "#output\n",
    "print('Gaya apung yang dialami oleh benda dengan massa jenis', massa_jenis, 'kg/m^3 dan volume', volume, 'm^3 adalah', gaya_apung, 'N')"
   ]
  },
  {
   "cell_type": "code",
   "execution_count": 4,
   "metadata": {},
   "outputs": [
    {
     "name": "stdout",
     "output_type": "stream",
     "text": [
      "Gaya apung yang dialami oleh benda dengan massa jenis 10 kg/m^3 dan volume 6 m^3 adalah 588.0 N\n"
     ]
    }
   ],
   "source": [
    "#input data\n",
    "massa_jenis = 10 #satuan (kg/m^3)\n",
    "tinggi = 1 #satuan (m)\n",
    "panjang = 2 #satuan (m)\n",
    "lebar = 3 #satuan (m)\n",
    "g = 9.8 #percepatan gravitas di bumi (m/s^2)\n",
    "\n",
    "#hitung volume benda\n",
    "volume = panjang*lebar*tinggi\n",
    "\n",
    "#hitung gaya apung\n",
    "gaya_apung = massa_jenis*volume*g\n",
    "\n",
    "#output\n",
    "print('Gaya apung yang dialami oleh benda dengan massa jenis', massa_jenis, 'kg/m^3 dan volume', volume, 'm^3 adalah', gaya_apung, 'N')"
   ]
  },
  {
   "attachments": {},
   "cell_type": "markdown",
   "metadata": {},
   "source": [
    "2.Buatlah program sederhana untuk menghitung harga total dari pembelian tiket  oleh keluarga Anya dan harga tiket setelah mendapatkan diskon"
   ]
  },
  {
   "cell_type": "code",
   "execution_count": null,
   "metadata": {},
   "outputs": [],
   "source": [
    "\n"
   ]
  },
  {
   "attachments": {},
   "cell_type": "markdown",
   "metadata": {},
   "source": [
    "3. Data aslab\n"
   ]
  },
  {
   "cell_type": "code",
   "execution_count": null,
   "metadata": {},
   "outputs": [],
   "source": []
  }
 ],
 "metadata": {
  "kernelspec": {
   "display_name": "Python 3",
   "language": "python",
   "name": "python3"
  },
  "language_info": {
   "codemirror_mode": {
    "name": "ipython",
    "version": 3
   },
   "file_extension": ".py",
   "mimetype": "text/x-python",
   "name": "python",
   "nbconvert_exporter": "python",
   "pygments_lexer": "ipython3",
   "version": "3.11.2"
  },
  "orig_nbformat": 4
 },
 "nbformat": 4,
 "nbformat_minor": 2
}
