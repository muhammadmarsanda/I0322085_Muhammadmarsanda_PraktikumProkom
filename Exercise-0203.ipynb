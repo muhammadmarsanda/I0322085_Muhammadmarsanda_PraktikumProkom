{
 "cells": [
  {
   "cell_type": "code",
   "execution_count": 1,
   "metadata": {},
   "outputs": [
    {
     "name": "stdout",
     "output_type": "stream",
     "text": [
      "muhammad marsanda zarkasihh\n",
      "I0322085\n",
      "C\n"
     ]
    }
   ],
   "source": [
    "print(input(\"Nama: \"))\n",
    "print(input(\"NIM: \"))\n",
    "print(input(\"Kelas: \"))"
   ]
  },
  {
   "attachments": {},
   "cell_type": "markdown",
   "metadata": {},
   "source": [
    "## 1."
   ]
  },
  {
   "attachments": {},
   "cell_type": "markdown",
   "metadata": {},
   "source": [
    "buatlah program sederhana untuk:\n",
    "* **A** mencari massa jika diketahui nilai energi potensial, percepatan gravitasi, dan ketinggian benda! beserta rumus nya!\n",
    "* **B** mencari gaya apung jika diketahui massa jenis, tinggi, panjang, dan lebar benda serta percepatan gravitasi dan contohnya! beserta rumus nya!\n",
    "* **C** Tulis program Python untuk menghitung luas dari segi lima sama sisi!\n",
    "\n",
    "> *note* : rumus, contoh, dan nilai dari tiap variabel ditentukan oleh kalian sendiri dan gunakan satuan baku (SI) untuk menghitung nilai dari tiap variabel"
   ]
  },
  {
   "cell_type": "code",
   "execution_count": 5,
   "metadata": {},
   "outputs": [
    {
     "ename": "SyntaxError",
     "evalue": "invalid syntax (2120971047.py, line 1)",
     "output_type": "error",
     "traceback": [
      "\u001b[1;36m  Cell \u001b[1;32mIn[5], line 1\u001b[1;36m\u001b[0m\n\u001b[1;33m    input data\u001b[0m\n\u001b[1;37m          ^\u001b[0m\n\u001b[1;31mSyntaxError\u001b[0m\u001b[1;31m:\u001b[0m invalid syntax\n"
     ]
    }
   ],
   "source": [
    "input data\n",
    "energi_potensial = float(input('Masukkan energi potensial benda (kg.m^2/s^2): '))\n",
    "tinggi = float(input('Masukkan tinggi benda (m): '))\n",
    "g = 9.8 #percepatan gravitas di bumi (m/s^2)\n",
    "\n",
    "#hitung nilai massa benda\n",
    "massa = energi_potensial/(tinggi*g)\n",
    "\n",
    "#output\n",
    "print('Massa benda yang dimiliki oleh benda dengan energi potensial', energi_potensial, 'kg.m^2/s^2 dan tinggi', tinggi, 'm adalah', massa, 'kg')"
   ]
  },
  {
   "cell_type": "code",
   "execution_count": 3,
   "metadata": {},
   "outputs": [
    {
     "name": "stdout",
     "output_type": "stream",
     "text": [
      "Massa benda yang dimiliki oleh benda dengan energi potensial 10 kg.m^2/s^2 dan tinggi 1 m adalah 1.0204081632653061 kg\n"
     ]
    }
   ],
   "source": [
    "#input data\n",
    "energi_potensial = 10 #satuan (kg.m^2/s^2) \n",
    "tinggi = 1 #satuan (m)\n",
    "g = 9.8 #percepatan gravitas di bumi (m/s^2)\n",
    "\n",
    "#hitung nilai massa benda\n",
    "massa = energi_potensial/(tinggi*g)\n",
    "\n",
    "#output\n",
    "print('Massa benda yang dimiliki oleh benda dengan energi potensial', energi_potensial, 'kg.m^2/s^2 dan tinggi', tinggi, 'm adalah', massa, 'kg')"
   ]
  },
  {
   "cell_type": "code",
   "execution_count": 6,
   "metadata": {},
   "outputs": [
    {
     "name": "stdout",
     "output_type": "stream",
     "text": [
      "Gaya apung yang dialami oleh benda dengan massa jenis 20.0 kg/m^3 dan volume 6.0 m^3 adalah 1176.0 N\n"
     ]
    }
   ],
   "source": [
    "\n",
    "#input data\n",
    "massa_jenis = float(input('Masukkan massa jenis benda (kg/m^3): '))\n",
    "tinggi = float(input('Masukkan tinggi benda (m): '))\n",
    "panjang = float(input('Masukkan panjang benda (m): '))\n",
    "lebar = float(input('Masukkan lebar benda (m): '))\n",
    "g = 9.8 #percepatan gravitas di bumi (m/s^2)\n",
    "\n",
    "#hitung volume benda\n",
    "volume = panjang*lebar*tinggi\n",
    "\n",
    "#hitung gaya apung\n",
    "gaya_apung = massa_jenis*volume*g\n",
    "\n",
    "#output\n",
    "print('Gaya apung yang dialami oleh benda dengan massa jenis', massa_jenis, 'kg/m^3 dan volume', volume, 'm^3 adalah', gaya_apung, 'N')"
   ]
  },
  {
   "cell_type": "markdown",
   "metadata": {},
   "source": []
  },
  {
   "attachments": {},
   "cell_type": "markdown",
   "metadata": {},
   "source": [
    "## 2."
   ]
  },
  {
   "cell_type": "markdown",
   "metadata": {},
   "source": []
  },
  {
   "attachments": {},
   "cell_type": "markdown",
   "metadata": {},
   "source": [
    "Taman bermain ANCOL memiliki berbagai wahana, salah satunya adalah bianglala. Harga tiket yang dijual berbeda tergantung dengan kategori nya. Harga tiket bagi orang dewasa atau yang berumur lebih dari 17 tahun adalah Rp 110.000 , harga tiket untuk anak-anak usia 6-16 tahun adalah Rp. 75.000 , sedangkan untuk usia dibawahnya tidak dikenakan biaya. Pada wahana bianglala sedang ada \"Promo RAMADHAN\" sebesar 20% bagi pembelian tiket lebih dari 2 pcs.\n",
    "\n",
    "Keluarga Anya Forger ingin menaiki wahana bianglala tersebut, Anya (usia 18 tahun) pergi bersama ayah dan ibunya beserta dua adiknya, Harry (usia 8 tahun) dan Taylor (usia 4 tahun). \n",
    "\n",
    "> Buatlah program sederhana untuk menghitung harga total dari pembelian tiket  oleh keluarga Anya dan harga tiket setelah mendapatkan diskon"
   ]
  },
  {
   "cell_type": "code",
   "execution_count": 10,
   "metadata": {},
   "outputs": [
    {
     "name": "stdout",
     "output_type": "stream",
     "text": [
      "Total harga tiket sebelum diskon: Rp 296000.0\n"
     ]
    }
   ],
   "source": [
    "# Harga tiket bianglala\n",
    "harga_dewasa = 110000\n",
    "harga_anak = 75000\n",
    "\n",
    "# Jumlah tiket yang dibeli\n",
    "jumlah_dewasa = 2\n",
    "jumlah_anak = 2\n",
    "\n",
    "# Menghitung harga total tiket sebelum diskon\n",
    "total_harga = (harga_dewasa * jumlah_dewasa) + (harga_anak * jumlah_anak)\n",
    "\n",
    "# Menerapkan diskon jika memenuhi syarat promo\n",
    "if jumlah_dewasa + jumlah_anak > 2:\n",
    "    total_harga *= 0.8\n",
    "\n",
    "# Output hasil perhitungan\n",
    "print(\"Total harga tiket sebelum diskon: Rp\", total_harga)\n"
   ]
  },
  {
   "attachments": {},
   "cell_type": "markdown",
   "metadata": {},
   "source": [
    "## 3. "
   ]
  },
  {
   "attachments": {},
   "cell_type": "markdown",
   "metadata": {},
   "source": [
    "diberikan list aslab sebagai berikut:\n",
    "```python\n",
    "list_aslab = [\n",
    "    {\"nama\": \"Berlian Safri Prakoso\", \"nim\": \"I0320017\", \"kontak\": \"0858XXXXXXXX\"},\n",
    "    {\"nama\": \"Halidya Siti Hanifah\", \"nim\": \"I0320044\", \"kontak\": \"0878XXXXXXXX\"},\n",
    "    {\"nama\": \"Nurki Putra Mahardika\", \"nim\": \"I0320076\", \"kontak\": \"0877XXXXXXXX\"},\n",
    "    {\"nama\": \"Aji Manarul Aziz\", \"nim\": \"I0320119\", \"kontak\": \"0812XXXXXXXX\"},\n",
    "    {\"nama\": \"Alica Ayu Fitriani\", \"nim\": \"I0320121\", \"kontak\": \"0896XXXXXXXX\"},\n",
    "    {\"nama\": \"Dendy Halim Kusuma\", \"nim\": \"I0320125\", \"kontak\": \"0822XXXXXXXX\"}\n",
    "]\n",
    "```\n",
    "* **A** Tuliskan kode untuk mengakses informasi tentang \"nama\" dari semua aslab mulai dari index 1 sampai 5\n",
    "* **B** Tambahkan informasi berikut pada data aslab dan tampilkan hasilnya:\n",
    "```python\n",
    "    surel = [\"berlian@student.uns.ac.id\",\n",
    "          \"halidya@student.uns.ac.id\",\n",
    "          \"nurki@student.uns.ac.id\",\n",
    "          \"manarul@student.uns.ac.id\",\n",
    "          \"alica@student.uns.ac.id\",\n",
    "          \"dendy@student.uns.ac.id\"]\n",
    "```\n",
    "* **C** Hapus nilai pada kunci \"kontak\" pada list aslab dan tampilkan hasilnya\n",
    "> *note: kalian hanya boleh menggunakan key-value pair yang disebutkan di dalam teks, tanpa menggunakan informasi tambahan yang diambil pada list yang ada*"
   ]
  },
  {
   "cell_type": "code",
   "execution_count": 13,
   "metadata": {},
   "outputs": [],
   "source": [
    "list_aslab = [\n",
    "    {\"nama\": \"Berlian Safri Prakoso\", \"nim\": \"I0320017\", \"kontak\": \"0858XXXXXXXX\"},\n",
    "    {\"nama\": \"Halidya Siti Hanifah\", \"nim\": \"I0320044\", \"kontak\": \"0878XXXXXXXX\"},\n",
    "    {\"nama\": \"Nurki Putra Mahardika\", \"nim\": \"I0320076\", \"kontak\": \"0877XXXXXXXX\"},\n",
    "    {\"nama\": \"Aji Manarul Aziz\", \"nim\": \"I0320119\", \"kontak\": \"0812XXXXXXXX\"},\n",
    "    {\"nama\": \"Alica Ayu Fitriani\", \"nim\": \"I0320121\", \"kontak\": \"0896XXXXXXXX\"},\n",
    "    {\"nama\": \"Dendy Halim Kusuma\", \"nim\": \"I0320125\", \"kontak\": \"0822XXXXXXXX\"}\n",
    "]"
   ]
  },
  {
   "cell_type": "code",
   "execution_count": 14,
   "metadata": {},
   "outputs": [
    {
     "name": "stdout",
     "output_type": "stream",
     "text": [
      "Halidya Siti Hanifah\n",
      "Nurki Putra Mahardika\n",
      "Aji Manarul Aziz\n",
      "Alica Ayu Fitriani\n",
      "Dendy Halim Kusuma\n"
     ]
    }
   ],
   "source": [
    "for aslab in list_aslab[1:6]:\n",
    "    print(aslab[\"nama\"])\n"
   ]
  },
  {
   "cell_type": "code",
   "execution_count": 16,
   "metadata": {},
   "outputs": [
    {
     "name": "stdout",
     "output_type": "stream",
     "text": [
      "{'nama': 'Berlian Safri Prakoso', 'nim': 'I0320017', 'kontak': '0858XXXXXXXX', 'surel': 'berlian@student.uns.ac.id'}\n",
      "{'nama': 'Halidya Siti Hanifah', 'nim': 'I0320044', 'kontak': '0878XXXXXXXX', 'surel': 'halidya@student.uns.ac.id'}\n",
      "{'nama': 'Nurki Putra Mahardika', 'nim': 'I0320076', 'kontak': '0877XXXXXXXX', 'surel': 'nurki@student.uns.ac.id'}\n",
      "{'nama': 'Aji Manarul Aziz', 'nim': 'I0320119', 'kontak': '0812XXXXXXXX', 'surel': 'manarul@student.uns.ac.id'}\n",
      "{'nama': 'Alica Ayu Fitriani', 'nim': 'I0320121', 'kontak': '0896XXXXXXXX', 'surel': 'alica@student.uns.ac.id'}\n",
      "{'nama': 'Dendy Halim Kusuma', 'nim': 'I0320125', 'kontak': '0822XXXXXXXX', 'surel': 'dendy@student.uns.ac.id'}\n"
     ]
    }
   ],
   "source": [
    "surel = [\"berlian@student.uns.ac.id\",\n",
    "      \"halidya@student.uns.ac.id\",\n",
    "      \"nurki@student.uns.ac.id\",\n",
    "      \"manarul@student.uns.ac.id\",\n",
    "      \"alica@student.uns.ac.id\",\n",
    "      \"dendy@student.uns.ac.id\"]\n",
    "\n",
    "for i in range(len(list_aslab)):\n",
    "    list_aslab[i][\"surel\"] = surel[i]\n",
    "\n",
    "for aslab in list_aslab:\n",
    "    print(aslab)\n"
   ]
  },
  {
   "cell_type": "code",
   "execution_count": 17,
   "metadata": {},
   "outputs": [
    {
     "name": "stdout",
     "output_type": "stream",
     "text": [
      "{'nama': 'Berlian Safri Prakoso', 'nim': 'I0320017', 'surel': 'berlian@student.uns.ac.id'}\n",
      "{'nama': 'Halidya Siti Hanifah', 'nim': 'I0320044', 'surel': 'halidya@student.uns.ac.id'}\n",
      "{'nama': 'Nurki Putra Mahardika', 'nim': 'I0320076', 'surel': 'nurki@student.uns.ac.id'}\n",
      "{'nama': 'Aji Manarul Aziz', 'nim': 'I0320119', 'surel': 'manarul@student.uns.ac.id'}\n",
      "{'nama': 'Alica Ayu Fitriani', 'nim': 'I0320121', 'surel': 'alica@student.uns.ac.id'}\n",
      "{'nama': 'Dendy Halim Kusuma', 'nim': 'I0320125', 'surel': 'dendy@student.uns.ac.id'}\n"
     ]
    }
   ],
   "source": [
    "for i in range(len(list_aslab)):\n",
    "    del list_aslab[i][\"kontak\"]\n",
    "\n",
    "for aslab in list_aslab:\n",
    "    print(aslab)\n"
   ]
  }
 ],
 "metadata": {
  "kernelspec": {
   "display_name": "Python 3",
   "language": "python",
   "name": "python3"
  },
  "language_info": {
   "codemirror_mode": {
    "name": "ipython",
    "version": 3
   },
   "file_extension": ".py",
   "mimetype": "text/x-python",
   "name": "python",
   "nbconvert_exporter": "python",
   "pygments_lexer": "ipython3",
   "version": "3.11.2"
  },
  "orig_nbformat": 4,
  "vscode": {
   "interpreter": {
    "hash": "5addf786bcd861d1ce5006f23111f8cbb206731e5b61b0a5632ba9e0252558a8"
   }
  }
 },
 "nbformat": 4,
 "nbformat_minor": 2
}
